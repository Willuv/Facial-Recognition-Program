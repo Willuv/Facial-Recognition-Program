{
 "cells": [
  {
   "cell_type": "code",
   "execution_count": 2,
   "id": "2637d205-d5d3-4377-bd1a-b5a59d530074",
   "metadata": {},
   "outputs": [],
   "source": [
    "import numpy as np # numerical python\n",
    "import matplotlib.pyplot as plt #visualization library"
   ]
  },
  {
   "cell_type": "code",
   "execution_count": 4,
   "id": "b36bf57c-da32-426b-ae3b-3785dd006959",
   "metadata": {},
   "outputs": [
    {
     "name": "stdout",
     "output_type": "stream",
     "text": [
      "[  0   1   2   3   4   5   6   7   8   9  10  11  12  13  14  15  16  17\n",
      "  18  19  20  21  22  23  24  25  26  27  28  29  30  31  32  33  34  35\n",
      "  36  37  38  39  40  41  42  43  44  45  46  47  48  49  50  51  52  53\n",
      "  54  55  56  57  58  59  60  61  62  63  64  65  66  67  68  69  70  71\n",
      "  72  73  74  75  76  77  78  79  80  81  82  83  84  85  86  87  88  89\n",
      "  90  91  92  93  94  95  96  97  98  99 100 101 102 103 104 105 106 107\n",
      " 108 109 110 111 112 113 114 115 116 117 118 119 120 121 122 123 124 125\n",
      " 126 127 128 129 130 131 132 133 134 135 136 137 138 139 140 141 142 143\n",
      " 144 145 146 147 148 149 150 151 152 153 154 155 156 157 158 159 160 161\n",
      " 162 163 164 165 166 167 168 169 170 171 172 173 174 175 176 177 178 179\n",
      " 180 181 182 183 184 185 186 187 188 189 190 191 192 193 194 195 196 197\n",
      " 198 199 200 201 202 203 204 205 206 207 208 209 210 211 212 213 214 215\n",
      " 216 217 218 219 220 221 222 223 224 225 226 227 228 229 230 231 232 233\n",
      " 234 235 236 237 238 239 240 241 242 243 244 245 246 247 248 249 250 251\n",
      " 252 253 254 255]\n"
     ]
    }
   ],
   "source": [
    "# create an array in the range (0,255) . 16 x 16\n",
    "arr = np.arange(0,256,1)\n",
    "print(arr)"
   ]
  },
  {
   "cell_type": "code",
   "execution_count": 5,
   "id": "37d26606-d689-4f52-b62e-43bbff97d89f",
   "metadata": {},
   "outputs": [
    {
     "name": "stdout",
     "output_type": "stream",
     "text": [
      "[[  0   1   2   3   4   5   6   7   8   9  10  11  12  13  14  15]\n",
      " [ 16  17  18  19  20  21  22  23  24  25  26  27  28  29  30  31]\n",
      " [ 32  33  34  35  36  37  38  39  40  41  42  43  44  45  46  47]\n",
      " [ 48  49  50  51  52  53  54  55  56  57  58  59  60  61  62  63]\n",
      " [ 64  65  66  67  68  69  70  71  72  73  74  75  76  77  78  79]\n",
      " [ 80  81  82  83  84  85  86  87  88  89  90  91  92  93  94  95]\n",
      " [ 96  97  98  99 100 101 102 103 104 105 106 107 108 109 110 111]\n",
      " [112 113 114 115 116 117 118 119 120 121 122 123 124 125 126 127]\n",
      " [128 129 130 131 132 133 134 135 136 137 138 139 140 141 142 143]\n",
      " [144 145 146 147 148 149 150 151 152 153 154 155 156 157 158 159]\n",
      " [160 161 162 163 164 165 166 167 168 169 170 171 172 173 174 175]\n",
      " [176 177 178 179 180 181 182 183 184 185 186 187 188 189 190 191]\n",
      " [192 193 194 195 196 197 198 199 200 201 202 203 204 205 206 207]\n",
      " [208 209 210 211 212 213 214 215 216 217 218 219 220 221 222 223]\n",
      " [224 225 226 227 228 229 230 231 232 233 234 235 236 237 238 239]\n",
      " [240 241 242 243 244 245 246 247 248 249 250 251 252 253 254 255]]\n"
     ]
    }
   ],
   "source": [
    "arr = arr.reshape((16,16))\n",
    "print(arr)"
   ]
  },
  {
   "cell_type": "code",
   "execution_count": 8,
   "id": "43fe2f64-8f6e-430b-aba4-36f86111e801",
   "metadata": {},
   "outputs": [],
   "source": [
    "arr_8bit = arr.astype(np.uint8)"
   ]
  },
  {
   "cell_type": "code",
   "execution_count": 12,
   "id": "8d4fd716-d550-48f4-a17a-c56e3778d339",
   "metadata": {},
   "outputs": [
    {
     "data": {
      "image/png": "[encoded data removed]",
      "text/plain": [
       "<Figure size 640x480 with 1 Axes>"
      ]
     },
     "metadata": {},
     "output_type": "display_data"
    }
   ],
   "source": [
    "plt.imshow(arr_8bit,cmap='gray')\n",
    "plt.axis('off')\n",
    "plt.show()"
   ]
  },
  {
   "cell_type": "code",
   "execution_count": 16,
   "id": "5c866aa7-f1e2-4752-a1e3-16735c5e4540",
   "metadata": {},
   "outputs": [
    {
     "data": {
      "text/plain": [
       "(np.float64(-0.5), np.float64(15.5), np.float64(15.5), np.float64(-0.5))"
      ]
     },
     "execution_count": 16,
     "metadata": {},
     "output_type": "execute_result"
    },
    {
     "data": {
      "image/png": "[encoded data removed]",
      "text/plain": [
       "<Figure size 640x480 with 1 Axes>"
      ]
     },
     "metadata": {},
     "output_type": "display_data"
    }
   ],
   "source": [
    "#random matrix (16x16)\n",
    "arr1 = np.random.randint(low=0,high=255,size=(16,16), dtype=np.uint8)\n",
    "plt.imshow(arr1,cmap='gray')\n",
    "plt.axis('off')"
   ]
  },
  {
   "cell_type": "code",
   "execution_count": 17,
   "id": "ddb6854f-a66d-478e-8b6c-41e1ca771a18",
   "metadata": {},
   "outputs": [
    {
     "data": {
      "text/plain": [
       "array([[143, 139,  14, 210, 110, 241, 187, 226, 242, 204,  13, 172, 174,\n",
       "         99, 201, 232],\n",
       "       [245, 144, 139, 148, 211,   2,  31, 179,  28, 177, 168, 197, 192,\n",
       "         72, 163, 144],\n",
       "       [ 14, 109,  67, 163, 141, 232,  68, 230, 138,  43, 218, 184, 228,\n",
       "        207,   4,   6],\n",
       "       [140,  81, 249, 127,  96, 226,  76,  41, 148,  79, 105,  29,  97,\n",
       "         86, 152, 224],\n",
       "       [241, 180,   7, 195,  53, 216, 150, 244,  95, 182,  27,  91,  97,\n",
       "          4, 241,  26],\n",
       "       [ 70,   9, 189, 143,   4,  38,  47, 247,  66, 103, 239, 160,   0,\n",
       "        216, 244, 252],\n",
       "       [ 58,  98, 100, 103, 163, 199, 121, 230, 117,  94, 226,  78, 117,\n",
       "        130,  60,  41],\n",
       "       [225, 243,  26, 188,  11, 171, 140, 242,  39,  28, 128,  92,   5,\n",
       "         39,  70,  43],\n",
       "       [135,  77,  35, 254, 189,   5,  63,  35, 155,   6, 143, 103, 101,\n",
       "        226, 129,  96],\n",
       "       [137, 207, 155,  63, 154, 136, 237, 233, 212, 199, 165,  45,  73,\n",
       "        195, 171,  72],\n",
       "       [227, 107,  66, 246, 113,  35, 190, 150,  88, 100, 163,  68, 196,\n",
       "        110, 103,  44],\n",
       "       [236, 233,   7, 166,  77, 217, 247, 191,  79,  28, 193, 142, 187,\n",
       "        233,  66,  83],\n",
       "       [223,  28, 206, 136, 215,  27, 245, 129, 246, 114, 110, 201, 239,\n",
       "         40,  72, 158],\n",
       "       [128,  80, 188, 124,  76, 191, 216,  16, 191, 254, 249, 190,  36,\n",
       "         57,  85, 228],\n",
       "       [ 47, 249,  59,  10, 130,  60, 119, 143, 184,  45,  81, 222, 118,\n",
       "        125,   7,  52],\n",
       "       [ 41,  79,  53, 139,  18, 186, 141,  49,  90, 153,  64, 245,  15,\n",
       "        144,  12, 177]], dtype=uint8)"
      ]
     },
     "execution_count": 17,
     "metadata": {},
     "output_type": "execute_result"
    }
   ],
   "source": [
    "arr1"
   ]
  },
  {
   "cell_type": "code",
   "execution_count": null,
   "id": "2d430236-e4f3-4216-8891-3c3b380c11f7",
   "metadata": {},
   "outputs": [],
   "source": []
  }
 ],
 "metadata": {
  "kernelspec": {
   "display_name": "Python 3 (ipykernel)",
   "language": "python",
   "name": "python3"
  },
  "language_info": {
   "codemirror_mode": {
    "name": "ipython",
    "version": 3
   },
   "file_extension": ".py",
   "mimetype": "text/x-python",
   "name": "python",
   "nbconvert_exporter": "python",
   "pygments_lexer": "ipython3",
   "version": "3.12.4"
  }
 },
 "nbformat": 4,
 "nbformat_minor": 5
}
