{
 "cells": [
  {
   "cell_type": "code",
   "execution_count": 1,
   "id": "3df46520-3a35-4553-bee0-eb681405f9e6",
   "metadata": {},
   "outputs": [],
   "source": [
    "import numpy as np\n",
    "import cv2"
   ]
  },
  {
   "cell_type": "code",
   "execution_count": 2,
   "id": "367e137b-6d96-49dc-99b0-446d01ff7a31",
   "metadata": {},
   "outputs": [
    {
     "name": "stdout",
     "output_type": "stream",
     "text": [
      "(480, 640, 3)\n"
     ]
    }
   ],
   "source": [
    "#loading image\n",
    "img = cv2.imread('./data/flying_bird.jpg')\n",
    "\n",
    "print(img.shape)\n",
    "cv2.imshow('original', img)\n",
    "cv2.waitKey(0)\n",
    "cv2.destroyAllWindows()"
   ]
  },
  {
   "cell_type": "code",
   "execution_count": 4,
   "id": "d234c8fb-28eb-4131-897c-55feb05cae3c",
   "metadata": {},
   "outputs": [],
   "source": [
    "### Task\n",
    "#1. Shape the image\n",
    "#2. Enlarge the image"
   ]
  },
  {
   "cell_type": "code",
   "execution_count": 8,
   "id": "ce861449-d1d9-42ba-a766-5342ff1b45a7",
   "metadata": {},
   "outputs": [],
   "source": [
    "#shrinking image\n",
    "# width = columns , height = rows\n",
    "img_shrink = cv2.resize(img,dsize=(320,240),interpolation=cv2.INTER_AREA)\n",
    "\n",
    "# enlarge\n",
    "# cv2.INTER_CUBIC, cv2.INTER_LINEAR\n",
    "img_zoom = cv2.resize(img,dsize=(1280,960),interpolation=cv2.INTER_CUBIC)"
   ]
  },
  {
   "cell_type": "code",
   "execution_count": 9,
   "id": "676bd328-b4a1-4071-94b0-782e062b14cf",
   "metadata": {},
   "outputs": [
    {
     "data": {
      "text/plain": [
       "((240, 320, 3), (960, 1280, 3))"
      ]
     },
     "execution_count": 9,
     "metadata": {},
     "output_type": "execute_result"
    }
   ],
   "source": [
    "img_shrink.shape, img_zoom.shape"
   ]
  },
  {
   "cell_type": "code",
   "execution_count": 10,
   "id": "a3d33ee4-3909-4f55-b145-dd040831d1f2",
   "metadata": {},
   "outputs": [],
   "source": [
    "cv2.imshow('original', img)\n",
    "cv2.imshow('shrink',img_shrink)\n",
    "cv2.imshow('zoom',img_zoom)\n",
    "cv2.waitKey(0)\n",
    "cv2.destroyAllWindows()"
   ]
  }
 ],
 "metadata": {
  "kernelspec": {
   "display_name": "Python 3 (ipykernel)",
   "language": "python",
   "name": "python3"
  },
  "language_info": {
   "codemirror_mode": {
    "name": "ipython",
    "version": 3
   },
   "file_extension": ".py",
   "mimetype": "text/x-python",
   "name": "python",
   "nbconvert_exporter": "python",
   "pygments_lexer": "ipython3",
   "version": "3.12.4"
  }
 },
 "nbformat": 4,
 "nbformat_minor": 5
}
