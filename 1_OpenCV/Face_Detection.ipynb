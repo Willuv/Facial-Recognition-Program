{
 "cells": [
  {
   "cell_type": "code",
   "execution_count": 1,
   "id": "6c6f2cb5-1494-4844-94ce-8c580316b777",
   "metadata": {},
   "outputs": [],
   "source": [
    "import numpy as np\n",
    "import cv2"
   ]
  },
  {
   "cell_type": "code",
   "execution_count": 3,
   "id": "04f6d64b-22a0-4d43-860c-de68863638dc",
   "metadata": {},
   "outputs": [],
   "source": [
    "img = cv2.imread('./data/friends.jpg')\n",
    "\n",
    "cv2.imshow('image',img)\n",
    "cv2.waitKey()\n",
    "cv2.destroyAllWindows()"
   ]
  },
  {
   "cell_type": "code",
   "execution_count": 11,
   "id": "07b18025-4bda-455b-8d7a-015157800200",
   "metadata": {},
   "outputs": [],
   "source": [
    "#load cascade classifier\n",
    "haar = cv2.CascadeClassifier('./data/haarcascade_frontalface_default.xml')"
   ]
  },
  {
   "cell_type": "code",
   "execution_count": 40,
   "id": "31a75225-6a35-4649-ab94-9063ec2c2044",
   "metadata": {},
   "outputs": [],
   "source": [
    "image = img.copy()\n",
    "\n",
    "# step-1: convert image to grayscale\n",
    "gray = cv2.cvtColor(img,cv2.COLOR_BGR2GRAY)\n",
    "# step-2: apply grayscale image to cascade classifier\n",
    "face_rect = haar.detectMultiScale(gray,1.3,5)\n",
    "# step -3: draw bounding box|\n",
    "for x,y,w,h in face_rect:\n",
    "    cv2.rectangle(image,(x,y),(x+w,y+h),(0,255,0),2)\n",
    "    \n",
    "    \n",
    "cv2.imshow('detected faces',image)\n",
    "cv2.waitKey()\n",
    "cv2.destroyAllWindows()"
   ]
  },
  {
   "cell_type": "code",
   "execution_count": 41,
   "id": "00848f02-25d8-4786-aa2a-3bb41da5064f",
   "metadata": {},
   "outputs": [
    {
     "name": "stdout",
     "output_type": "stream",
     "text": [
      "[[128 106  96  96]\n",
      " [255  88  97  97]\n",
      " [405  92  96  96]]\n"
     ]
    }
   ],
   "source": [
    "print(face_rect)"
   ]
  },
  {
   "cell_type": "code",
   "execution_count": 42,
   "id": "783f89bd-7d67-42fe-9f20-64f458e91478",
   "metadata": {},
   "outputs": [],
   "source": [
    "### Real time face detection using OpenCV"
   ]
  },
  {
   "cell_type": "code",
   "execution_count": 44,
   "id": "cbb63eaa-220a-49a3-950b-d3c6120335f2",
   "metadata": {},
   "outputs": [],
   "source": [
    "cap = cv2.VideoCapture('./data/video.mp4')\n",
    "\n",
    "while True:\n",
    "    ret, frame = cap.read()\n",
    "    if ret == False:\n",
    "        break\n",
    "\n",
    "    image = frame.copy()\n",
    "\n",
    "    # step-1: convert image to grayscale\n",
    "    gray = cv2.cvtColor(image,cv2.COLOR_BGR2GRAY)\n",
    "    # step-2: apply grayscale image to cascade classifier\n",
    "    face_rect = haar.detectMultiScale(gray,1.3,5)\n",
    "    # step -3: draw bounding box|\n",
    "    for x,y,w,h in face_rect:\n",
    "        cv2.rectangle(image,(x,y),(x+w,y+h),(0,255,0),2)\n",
    "\n",
    "    cv2.imshow('face detection', image)\n",
    "\n",
    "    if cv2.waitKey(1) == 27:\n",
    "        break\n",
    "\n",
    "cap.release()\n",
    "cv2.destroyAllWindows()"
   ]
  },
  {
   "cell_type": "code",
   "execution_count": null,
   "id": "0eeefa62-76b7-49ab-bfc8-6be406c63e04",
   "metadata": {},
   "outputs": [],
   "source": []
  }
 ],
 "metadata": {
  "kernelspec": {
   "display_name": "Python 3 (ipykernel)",
   "language": "python",
   "name": "python3"
  },
  "language_info": {
   "codemirror_mode": {
    "name": "ipython",
    "version": 3
   },
   "file_extension": ".py",
   "mimetype": "text/x-python",
   "name": "python",
   "nbconvert_exporter": "python",
   "pygments_lexer": "ipython3",
   "version": "3.12.4"
  }
 },
 "nbformat": 4,
 "nbformat_minor": 5
}
