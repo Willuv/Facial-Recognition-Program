{
 "cells": [
  {
   "cell_type": "code",
   "execution_count": 3,
   "id": "ba065d23-dbb9-44b7-90be-5bfe90204093",
   "metadata": {},
   "outputs": [],
   "source": [
    "import numpy as np\n",
    "import pandas as pd\n",
    "\n",
    "#\n",
    "from sklearn.model_selection import train_test_split\n",
    "from sklearn.svm import SVC\n",
    "from sklearn.model_selection import GridSearchCV\n",
    "from sklearn import metrics"
   ]
  },
  {
   "cell_type": "code",
   "execution_count": 5,
   "id": "93b8f3ea-6fb8-49df-a074-62c2da24d6c7",
   "metadata": {},
   "outputs": [
    {
     "data": {
      "text/plain": [
       "['arr_0', 'arr_1']"
      ]
     },
     "execution_count": 5,
     "metadata": {},
     "output_type": "execute_result"
    }
   ],
   "source": [
    "# load numpy array\n",
    "data = np.load('./data/data_pca_50_target.npz')\n",
    "data.files"
   ]
  },
  {
   "cell_type": "code",
   "execution_count": 6,
   "id": "f24d7ce3-4723-4914-b9e2-e0c4c5fa9bde",
   "metadata": {},
   "outputs": [],
   "source": [
    "data.allow_pickle = True"
   ]
  },
  {
   "cell_type": "code",
   "execution_count": 14,
   "id": "30da0c03-1cd1-4cf9-aa84-a0d93cdfb48f",
   "metadata": {},
   "outputs": [],
   "source": [
    "X = data['arr_0'] # pca data with 50 components\n",
    "Y = data['arr_1'] # target or dependent variable"
   ]
  },
  {
   "cell_type": "code",
   "execution_count": 15,
   "id": "856fa776-37ba-408c-800d-72c0e7ede289",
   "metadata": {},
   "outputs": [
    {
     "data": {
      "text/plain": [
       "((4321, 50), (4321,))"
      ]
     },
     "execution_count": 15,
     "metadata": {},
     "output_type": "execute_result"
    }
   ],
   "source": [
    "X.shape,Y.shape"
   ]
  },
  {
   "cell_type": "code",
   "execution_count": 12,
   "id": "bd68e9fc-fe19-4f62-86ca-0a5237d76e7c",
   "metadata": {},
   "outputs": [
    {
     "data": {
      "text/plain": [
       "array([[ 0.87500172,  0.26735315, -0.23778001, ...,  0.77766206,\n",
       "         0.4386648 ,  1.06235175],\n",
       "       [ 1.17092594, -0.22183947, -0.34321241, ..., -1.03002293,\n",
       "         0.47537964, -1.79689269],\n",
       "       [-0.7894864 , -0.30915247, -0.37195776, ..., -1.27151125,\n",
       "         0.3914073 , -1.93833213],\n",
       "       ...,\n",
       "       [ 1.33149975,  0.57080384,  1.26953343, ...,  0.68991025,\n",
       "         1.44484117, -1.34391011],\n",
       "       [-1.24438955, -0.45981387,  0.40834252, ..., -0.72285477,\n",
       "         0.4021218 ,  0.543946  ],\n",
       "       [ 1.23973254,  0.94343787, -0.05882303, ..., -0.05265067,\n",
       "        -0.37440415, -0.32812991]])"
      ]
     },
     "execution_count": 12,
     "metadata": {},
     "output_type": "execute_result"
    }
   ],
   "source": [
    "X"
   ]
  },
  {
   "cell_type": "code",
   "execution_count": 16,
   "id": "22cfb037-ebbc-47c9-8e13-56738e20b990",
   "metadata": {},
   "outputs": [
    {
     "data": {
      "text/plain": [
       "array(['female', 'female', 'female', ..., 'male', 'male', 'male'],\n",
       "      dtype=object)"
      ]
     },
     "execution_count": 16,
     "metadata": {},
     "output_type": "execute_result"
    }
   ],
   "source": [
    "Y"
   ]
  },
  {
   "cell_type": "code",
   "execution_count": 17,
   "id": "5bd511d7-9692-4d7d-95be-451d0a143873",
   "metadata": {},
   "outputs": [],
   "source": [
    "## split the data into training and testing"
   ]
  },
  {
   "cell_type": "code",
   "execution_count": 18,
   "id": "3078cd92-f058-48ed-a69e-6c220d4aa85a",
   "metadata": {},
   "outputs": [
    {
     "name": "stdout",
     "output_type": "stream",
     "text": [
      "(3456, 50) (865, 50) (3456,) (865,)\n"
     ]
    }
   ],
   "source": [
    "x_train,x_test, y_train, y_test = train_test_split(X,Y,test_size=0.2,stratify=Y)\n",
    "\n",
    "print(x_train.shape, x_test.shape, y_train.shape, y_test.shape)"
   ]
  },
  {
   "cell_type": "code",
   "execution_count": null,
   "id": "1151cf87-5e66-461f-a3f3-e01d714c30f4",
   "metadata": {},
   "outputs": [],
   "source": []
  }
 ],
 "metadata": {
  "kernelspec": {
   "display_name": "Python 3 (ipykernel)",
   "language": "python",
   "name": "python3"
  },
  "language_info": {
   "codemirror_mode": {
    "name": "ipython",
    "version": 3
   },
   "file_extension": ".py",
   "mimetype": "text/x-python",
   "name": "python",
   "nbconvert_exporter": "python",
   "pygments_lexer": "ipython3",
   "version": "3.12.4"
  }
 },
 "nbformat": 4,
 "nbformat_minor": 5
}
