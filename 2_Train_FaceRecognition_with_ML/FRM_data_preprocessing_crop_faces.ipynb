{
 "cells": [
  {
   "cell_type": "code",
   "execution_count": 2,
   "id": "13c3b2b0-3211-42a5-989b-1a3a966bb162",
   "metadata": {},
   "outputs": [],
   "source": [
    "import numpy as np #numerical python\n",
    "import cv2\n",
    "from glob import glob\n",
    "import matplotlib.pyplot as plt"
   ]
  },
  {
   "cell_type": "code",
   "execution_count": 4,
   "id": "3755d893-3c07-402b-97ec-de8b102b1e35",
   "metadata": {},
   "outputs": [],
   "source": [
    "fpath = glob('./data/female/*.jpg') # this will return all images path in a list\n",
    "mpath = glob('./data/male/*.jpg')"
   ]
  },
  {
   "cell_type": "code",
   "execution_count": 6,
   "id": "d9bae0e6-7046-4e58-b02b-df372b15339c",
   "metadata": {},
   "outputs": [
    {
     "name": "stdout",
     "output_type": "stream",
     "text": [
      "The number of images in Female folder =  4762\n",
      "The number of images in Male folder =  5399\n"
     ]
    }
   ],
   "source": [
    "print('The number of images in Female folder = ', len(fpath))\n",
    "print('The number of images in Male folder = ', len(mpath))"
   ]
  },
  {
   "cell_type": "code",
   "execution_count": null,
   "id": "077c5380-2b80-45c9-9356-df26da380882",
   "metadata": {},
   "outputs": [],
   "source": []
  },
  {
   "cell_type": "code",
   "execution_count": null,
   "id": "a658f6d3-b169-4081-ba31-0a0daca51669",
   "metadata": {},
   "outputs": [],
   "source": []
  },
  {
   "cell_type": "code",
   "execution_count": null,
   "id": "0dc5f2a8-9f87-4e0d-8543-d184c7939c70",
   "metadata": {},
   "outputs": [],
   "source": []
  },
  {
   "cell_type": "code",
   "execution_count": null,
   "id": "8522cd08-7882-4878-b4ec-f688d7e16c89",
   "metadata": {},
   "outputs": [],
   "source": []
  },
  {
   "cell_type": "code",
   "execution_count": null,
   "id": "598ab847-5423-435b-93fd-ffd513604893",
   "metadata": {},
   "outputs": [],
   "source": []
  },
  {
   "cell_type": "code",
   "execution_count": null,
   "id": "7d44e3b8-7ec7-4a02-8f2e-c22b81286540",
   "metadata": {},
   "outputs": [],
   "source": []
  }
 ],
 "metadata": {
  "kernelspec": {
   "display_name": "Python 3 (ipykernel)",
   "language": "python",
   "name": "python3"
  },
  "language_info": {
   "codemirror_mode": {
    "name": "ipython",
    "version": 3
   },
   "file_extension": ".py",
   "mimetype": "text/x-python",
   "name": "python",
   "nbconvert_exporter": "python",
   "pygments_lexer": "ipython3",
   "version": "3.12.4"
  }
 },
 "nbformat": 4,
 "nbformat_minor": 5
}
