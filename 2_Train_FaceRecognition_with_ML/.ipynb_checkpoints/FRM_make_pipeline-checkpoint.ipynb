{
 "cells": [
  {
   "cell_type": "code",
   "execution_count": 1,
   "id": "34942265-fdb6-41cd-b0ca-b0c8b92f6dc7",
   "metadata": {},
   "outputs": [],
   "source": [
    "import numpy as np\n",
    "import pandas as pd\n",
    "import sklearn\n",
    "import pickle\n",
    "\n",
    "import matplotlib.pyplot as plt\n",
    "import cv2"
   ]
  },
  {
   "cell_type": "code",
   "execution_count": 3,
   "id": "08e4ef0a-856b-408b-9729-d6aa8259c00f",
   "metadata": {},
   "outputs": [],
   "source": [
    "### Load all models\n",
    "haar = cv2.CascadeClassifier('./model/haarcascade_frontalface_default.xml') # cascade classifier\n",
    "model_svm = pickle.load(open('./model/model_svm.pickle',mode='rb')) # machine learning model (SVM)\n",
    "pca_models = pickle.load(open('./model/pca_dict.pickle',mode='rb')) # pca dictionary"
   ]
  },
  {
   "cell_type": "code",
   "execution_count": 4,
   "id": "b543b2e4-b9e6-4a1d-b25b-7e3536214059",
   "metadata": {},
   "outputs": [],
   "source": [
    "model_pca = pca_models['pca'] # PCA model\n",
    "mean_face_arr = pca_models['mean_face'] # Mean face"
   ]
  },
  {
   "cell_type": "code",
   "execution_count": 7,
   "id": "f43dfdad-1634-4175-a107-5d9828191819",
   "metadata": {},
   "outputs": [],
   "source": [
    "### Create pipeline"
   ]
  },
  {
   "cell_type": "code",
   "execution_count": 8,
   "id": "702f4f27-81d9-46e8-8265-d4e8daf563bc",
   "metadata": {},
   "outputs": [],
   "source": [
    "#1: read image\n",
    "#2: convert into gray scale\n",
    "#3: crop the face\n",
    "#4: normalization\n",
    "#5: resize images\n",
    "#6: Flattening\n",
    "#7: subtract with mean\n",
    "#8: get eigen image\n",
    "#9: Eigne image for visualization\n",
    "#10: pass to ml model (svm) and get predictions\n",
    "#11: generate report"
   ]
  },
  {
   "cell_type": "code",
   "execution_count": null,
   "id": "1f53e24b-dae9-4bb4-ab23-63fe50d44f5b",
   "metadata": {},
   "outputs": [],
   "source": []
  },
  {
   "cell_type": "code",
   "execution_count": null,
   "id": "0b7204d2-4b31-4039-ab19-f7fdf94fdc7b",
   "metadata": {},
   "outputs": [],
   "source": []
  },
  {
   "cell_type": "code",
   "execution_count": null,
   "id": "a816ad45-b75c-475a-a075-52ab2cd75f45",
   "metadata": {},
   "outputs": [],
   "source": []
  },
  {
   "cell_type": "code",
   "execution_count": null,
   "id": "51fe3adf-48da-411f-90fc-9afe06e6ff0c",
   "metadata": {},
   "outputs": [],
   "source": []
  },
  {
   "cell_type": "code",
   "execution_count": null,
   "id": "75283693-5588-45e1-b8b3-85c0aeef084f",
   "metadata": {},
   "outputs": [],
   "source": []
  }
 ],
 "metadata": {
  "kernelspec": {
   "display_name": "Python 3 (ipykernel)",
   "language": "python",
   "name": "python3"
  },
  "language_info": {
   "codemirror_mode": {
    "name": "ipython",
    "version": 3
   },
   "file_extension": ".py",
   "mimetype": "text/x-python",
   "name": "python",
   "nbconvert_exporter": "python",
   "pygments_lexer": "ipython3",
   "version": "3.12.4"
  }
 },
 "nbformat": 4,
 "nbformat_minor": 5
}
